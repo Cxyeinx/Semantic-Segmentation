{
 "cells": [
  {
   "cell_type": "code",
   "execution_count": 1,
   "id": "alpine-correction",
   "metadata": {},
   "outputs": [],
   "source": [
    "# !curl -O https://www.robots.ox.ac.uk/~vgg/data/pets/data/images.tar.gz\n",
    "# !curl -O https://www.robots.ox.ac.uk/~vgg/data/pets/data/annotations.tar.gz\n",
    "# !tar -xf images.tar.gz\n",
    "# !tar -xf annotations.tar.gz"
   ]
  },
  {
   "cell_type": "code",
   "execution_count": 2,
   "id": "acoustic-lambda",
   "metadata": {},
   "outputs": [],
   "source": [
    "import os\n",
    "from PIL import Image\n",
    "import numpy as np\n",
    "import matplotlib.pyplot as plt\n",
    "from tqdm import tqdm"
   ]
  },
  {
   "cell_type": "code",
   "execution_count": 3,
   "id": "disabled-garbage",
   "metadata": {},
   "outputs": [],
   "source": [
    "input_dir = \"raw_images/\"\n",
    "target_dir = \"segmented_images\""
   ]
  },
  {
   "cell_type": "code",
   "execution_count": 4,
   "id": "voluntary-isaac",
   "metadata": {},
   "outputs": [
    {
     "name": "stdout",
     "output_type": "stream",
     "text": [
      "Number of samples: 7390 7390\n",
      "raw_images/Abyssinian_1.jpg | segmented_images/Abyssinian_1.png\n",
      "raw_images/Abyssinian_10.jpg | segmented_images/Abyssinian_10.png\n",
      "raw_images/Abyssinian_100.jpg | segmented_images/Abyssinian_100.png\n",
      "raw_images/Abyssinian_101.jpg | segmented_images/Abyssinian_101.png\n",
      "raw_images/Abyssinian_102.jpg | segmented_images/Abyssinian_102.png\n",
      "raw_images/Abyssinian_103.jpg | segmented_images/Abyssinian_103.png\n",
      "raw_images/Abyssinian_104.jpg | segmented_images/Abyssinian_104.png\n",
      "raw_images/Abyssinian_105.jpg | segmented_images/Abyssinian_105.png\n",
      "raw_images/Abyssinian_106.jpg | segmented_images/Abyssinian_106.png\n",
      "raw_images/Abyssinian_107.jpg | segmented_images/Abyssinian_107.png\n"
     ]
    }
   ],
   "source": [
    "input_img_paths = sorted([\n",
    "        os.path.join(input_dir, fname)\n",
    "        for fname in os.listdir(input_dir)\n",
    "        if fname.endswith(\".jpg\")\n",
    "    ])\n",
    "target_img_paths = sorted([\n",
    "        os.path.join(target_dir, fname)\n",
    "        for fname in os.listdir(target_dir)\n",
    "        if fname.endswith(\".png\") and not fname.startswith(\".\")\n",
    "])\n",
    "\n",
    "print(\"Number of samples:\", len(input_img_paths), len(target_img_paths))\n",
    "\n",
    "for input_path, target_path in zip(input_img_paths[:10], target_img_paths[:10]):\n",
    "    print(input_path, \"|\", target_path)\n"
   ]
  },
  {
   "cell_type": "code",
   "execution_count": 5,
   "id": "technological-printing",
   "metadata": {},
   "outputs": [],
   "source": [
    "x_train = []\n",
    "y_train = []"
   ]
  },
  {
   "cell_type": "code",
   "execution_count": 6,
   "id": "western-treatment",
   "metadata": {},
   "outputs": [
    {
     "name": "stderr",
     "output_type": "stream",
     "text": [
      "100%|██████████| 7390/7390 [00:36<00:00, 200.89it/s]\n"
     ]
    }
   ],
   "source": [
    "for image in tqdm(input_img_paths):\n",
    "    img = Image.open(image).convert(\"L\").resize((128,128))\n",
    "    img = np.array(img)\n",
    "    img = img / 255.0\n",
    "    x_train.append(img)"
   ]
  },
  {
   "cell_type": "code",
   "execution_count": 7,
   "id": "sticky-assumption",
   "metadata": {},
   "outputs": [
    {
     "name": "stdout",
     "output_type": "stream",
     "text": [
      "(7390, 128, 128, 1)\n"
     ]
    }
   ],
   "source": [
    "x_train = np.array(x_train)\n",
    "x_train = np.expand_dims(x_train, axis=-1)\n",
    "print(x_train.shape)"
   ]
  },
  {
   "cell_type": "code",
   "execution_count": 8,
   "id": "running-cooling",
   "metadata": {},
   "outputs": [
    {
     "name": "stderr",
     "output_type": "stream",
     "text": [
      "100%|██████████| 7390/7390 [00:12<00:00, 579.13it/s]\n"
     ]
    }
   ],
   "source": [
    "for image in tqdm(target_img_paths):\n",
    "    img = Image.open(image).resize((128,128))\n",
    "    img = np.array(img)\n",
    "    y_train.append(img)"
   ]
  },
  {
   "cell_type": "code",
   "execution_count": 9,
   "id": "widespread-enough",
   "metadata": {},
   "outputs": [
    {
     "name": "stdout",
     "output_type": "stream",
     "text": [
      "(7390, 128, 128, 1)\n"
     ]
    }
   ],
   "source": [
    "y_train = np.array(y_train)\n",
    "y_train = np.expand_dims(y_train, axis=-1)\n",
    "print(y_train.shape)"
   ]
  },
  {
   "cell_type": "code",
   "execution_count": 10,
   "id": "sound-ending",
   "metadata": {},
   "outputs": [],
   "source": [
    "np.save(\"x_train.npy\", x_train)\n",
    "np.save(\"y_train.npy\", y_train)"
   ]
  },
  {
   "cell_type": "code",
   "execution_count": null,
   "id": "loaded-jerusalem",
   "metadata": {},
   "outputs": [],
   "source": []
  }
 ],
 "metadata": {
  "kernelspec": {
   "display_name": "Python 3",
   "language": "python",
   "name": "python3"
  },
  "language_info": {
   "codemirror_mode": {
    "name": "ipython",
    "version": 3
   },
   "file_extension": ".py",
   "mimetype": "text/x-python",
   "name": "python",
   "nbconvert_exporter": "python",
   "pygments_lexer": "ipython3",
   "version": "3.8.5"
  }
 },
 "nbformat": 4,
 "nbformat_minor": 5
}
